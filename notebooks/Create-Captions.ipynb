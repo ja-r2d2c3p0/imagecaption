{
 "cells": [
  {
   "cell_type": "code",
   "execution_count": 1,
   "metadata": {},
   "outputs": [],
   "source": [
    "import sys \n",
    "sys.path.insert(0, '/home/ray/default')\n",
    "\n",
    "import os\n",
    "from util.utils import (\n",
    "    generate_output_path,\n",
    "    prompt_for_hugging_face_token\n",
    ")\n",
    "import ray\n",
    "import os\n",
    "from typing import Dict\n",
    "import numpy as np"
   ]
  },
  {
   "cell_type": "code",
   "execution_count": 2,
   "metadata": {},
   "outputs": [],
   "source": [
    "## https://huggingface.co/datasets/DBQ/Burberry.Product.prices.United.States?row=0\n",
    "HF_DATA = \"DBQ/Burberry.Product.prices.United.States\"\n",
    "\n",
    "BASE_PATH = 's3://anyscale-customer-dataplane-data-production-us-east-2/artifact_storage/org_6687q89lgh27q3z41zesm2fsq6/cld_j25ipm5kli358v41pn9c96gjg3/BurberryData:john_:kpbdm'\n",
    "IMG_PATH = BASE_PATH + \"/images\"\n",
    "DATA_PATH = BASE_PATH + \"/data\"\n",
    "CAPTION_PATH = BASE_PATH + \"/captions/2\"\n",
    "\n",
    "IMG_PATH_TEST = \"/home/ray/default/data/images\""
   ]
  },
  {
   "cell_type": "code",
   "execution_count": 3,
   "metadata": {},
   "outputs": [],
   "source": [
    "HF_MODEL = \"google/paligemma-3b-mix-224\""
   ]
  },
  {
   "cell_type": "markdown",
   "metadata": {},
   "source": [
    "#### Run Config\n",
    "There are two modes `test` and `prod`. Test will only operate on a small subset of the data"
   ]
  },
  {
   "cell_type": "code",
   "execution_count": 4,
   "metadata": {},
   "outputs": [],
   "source": [
    "from enum import Enum, IntEnum\n",
    "from pydantic import BaseModel, ValidationError\n",
    "\n",
    "class RunMode(str, Enum):\n",
    "    test = 'test'\n",
    "    prod = 'prod'"
   ]
  },
  {
   "cell_type": "code",
   "execution_count": 5,
   "metadata": {},
   "outputs": [],
   "source": [
    "mode = RunMode.prod"
   ]
  },
  {
   "cell_type": "markdown",
   "metadata": {},
   "source": [
    "## Read Images"
   ]
  },
  {
   "cell_type": "code",
   "execution_count": 6,
   "metadata": {},
   "outputs": [
    {
     "name": "stderr",
     "output_type": "stream",
     "text": [
      "2024-09-22 06:06:02,171\tINFO worker.py:1596 -- Connecting to existing Ray cluster at address: 100.95.59.40:6379...\n",
      "2024-09-22 06:06:02,178\tINFO worker.py:1772 -- Connected to Ray cluster. View the dashboard at \u001b[1m\u001b[32mhttps://session-33eser3czbha2i3jm7g2t5am82.i.anyscaleuserdata.com \u001b[39m\u001b[22m\n",
      "2024-09-22 06:06:02,180\tINFO packaging.py:358 -- Pushing file package 'gcs://_ray_pkg_8c3a37d44ac6671b254b4766a2009901138346c5.zip' (0.04MiB) to Ray cluster...\n",
      "2024-09-22 06:06:02,181\tINFO packaging.py:371 -- Successfully pushed file package 'gcs://_ray_pkg_8c3a37d44ac6671b254b4766a2009901138346c5.zip'.\n"
     ]
    }
   ],
   "source": [
    "LIMIT = 10 if mode==RunMode.test else 100\n",
    "img_data = ray.data.read_images(IMG_PATH, include_paths=True).limit(LIMIT)"
   ]
  },
  {
   "cell_type": "markdown",
   "metadata": {},
   "source": [
    "## Inference with PaliGemma"
   ]
  },
  {
   "cell_type": "code",
   "execution_count": 12,
   "metadata": {},
   "outputs": [],
   "source": [
    "class PaliGemmaPredictor:\n",
    "    def __init__(self, prompt=\"caption en\", image_col=\"image\"):\n",
    "        from transformers import AutoProcessor, PaliGemmaForConditionalGeneration\n",
    "        self.prompt = prompt\n",
    "        self.image_col = image_col\n",
    "        self.model_id = \"google/paligemma-3b-mix-224\"\n",
    "        self.model = PaliGemmaForConditionalGeneration.from_pretrained(self.model_id).eval()\n",
    "        self.processor = AutoProcessor.from_pretrained(self.model_id)\n",
    "\n",
    "    def __call__(self, batch: Dict[str, np.ndarray]) -> Dict[str, list]:\n",
    "        import torch\n",
    "        # Generate texts from the prompts.\n",
    "        # The output is a list of RequestOutput objects that contain the prompt,\n",
    "        # generated text, and other information.\n",
    "        images = list(batch[self.image_col])\n",
    "        prompts = [self.prompt] * len(images)\n",
    "        model_inputs = self.processor(text=prompts, images=images, return_tensors=\"pt\")\n",
    "        input_len = model_inputs[\"input_ids\"].shape[-1]\n",
    "\n",
    "        with torch.inference_mode():\n",
    "            generation = self.model.generate(**model_inputs, max_new_tokens=100, do_sample=False)\n",
    "            mask = torch.tensor([i>=input_len for i in range(generation.shape[1])]).repeat(generation.shape[0],1)\n",
    "            indices = torch.nonzero(mask, as_tuple=True)\n",
    "            decoded = self.processor.batch_decode(generation[indices].reshape(generation.shape[0],-1), skip_special_tokens=True)\n",
    "        \n",
    "        return {\n",
    "            \"captions\": decoded,\n",
    "            \"path\": batch['path'].tolist()\n",
    "        }\n"
   ]
  },
  {
   "cell_type": "code",
   "execution_count": 8,
   "metadata": {},
   "outputs": [
    {
     "name": "stderr",
     "output_type": "stream",
     "text": [
      "2024-09-22 06:06:46,882\tINFO streaming_executor.py:108 -- Starting execution of Dataset. Full logs are in /tmp/ray/session_2024-09-21_20-17-17_494561_3381/logs/ray-data\n",
      "2024-09-22 06:06:46,883\tINFO streaming_executor.py:109 -- Execution plan of Dataset: InputDataBuffer[Input] -> TaskPoolMapOperator[ExpandPaths] -> TaskPoolMapOperator[ReadFiles] -> LimitOperator[limit=100] -> LimitOperator[limit=10]\n"
     ]
    },
    {
     "data": {
      "application/vnd.jupyter.widget-view+json": {
       "model_id": "6ce257e7ee1f4e2e933c840d37a4313c",
       "version_major": 2,
       "version_minor": 0
      },
      "text/plain": [
       "- ExpandPaths 1: 0 bundle [00:00, ? bundle/s]"
      ]
     },
     "metadata": {},
     "output_type": "display_data"
    },
    {
     "data": {
      "application/vnd.jupyter.widget-view+json": {
       "model_id": "72105d37ef8e4be1b2dcd143e7f2a1f4",
       "version_major": 2,
       "version_minor": 0
      },
      "text/plain": [
       "- ReadFiles 2: 0 bundle [00:00, ? bundle/s]"
      ]
     },
     "metadata": {},
     "output_type": "display_data"
    },
    {
     "data": {
      "application/vnd.jupyter.widget-view+json": {
       "model_id": "c33e495ca9c448cf82c3254e560d6dcd",
       "version_major": 2,
       "version_minor": 0
      },
      "text/plain": [
       "- limit=100 3: 0 bundle [00:00, ? bundle/s]"
      ]
     },
     "metadata": {},
     "output_type": "display_data"
    },
    {
     "data": {
      "application/vnd.jupyter.widget-view+json": {
       "model_id": "0746f8cf4fc249f38f9aba36bb1b8a3c",
       "version_major": 2,
       "version_minor": 0
      },
      "text/plain": [
       "- limit=10 4: 0 bundle [00:00, ? bundle/s]"
      ]
     },
     "metadata": {},
     "output_type": "display_data"
    },
    {
     "data": {
      "application/vnd.jupyter.widget-view+json": {
       "model_id": "53bb277ac5ea4eb0ab161c1a50f55425",
       "version_major": 2,
       "version_minor": 0
      },
      "text/plain": [
       "Running 0: 0 bundle [00:00, ? bundle/s]"
      ]
     },
     "metadata": {},
     "output_type": "display_data"
    }
   ],
   "source": [
    "\n",
    "batch = img_data.take_batch(10)"
   ]
  },
  {
   "cell_type": "code",
   "execution_count": 13,
   "metadata": {},
   "outputs": [
    {
     "data": {
      "application/vnd.jupyter.widget-view+json": {
       "model_id": "337b929ceecf4254838a3911c2ecbf12",
       "version_major": 2,
       "version_minor": 0
      },
      "text/plain": [
       "Loading checkpoint shards:   0%|          | 0/3 [00:00<?, ?it/s]"
      ]
     },
     "metadata": {},
     "output_type": "display_data"
    },
    {
     "data": {
      "text/plain": [
       "{'captions': ['a plaid bag with a zipper on it',\n",
       "  'A tan jacket with a zipper on the front.',\n",
       "  'A black boot with a plaid pattern on the inside.',\n",
       "  'A beige and black and white cape with a fringe.',\n",
       "  'A tan turtleneck shirt with a white logo on the front.',\n",
       "  'A blue shirt with a long-sleeved design.',\n",
       "  \"a navy blue sweatshirt with a bear on it that says 'burberry'\",\n",
       "  'A pair of plaid shorts with a black string.',\n",
       "  'A black sweater with a zipper on the front.',\n",
       "  'A pillow with a picture of a horse on it.'],\n",
       " 'path': ['anyscale-customer-dataplane-data-production-us-east-2/artifact_storage/org_6687q89lgh27q3z41zesm2fsq6/cld_j25ipm5kli358v41pn9c96gjg3/BurberryData:john_:kpbdm/images/2B7BA48A-64F4-464F-8568-E9A4C47968B1.png',\n",
       "  'anyscale-customer-dataplane-data-production-us-east-2/artifact_storage/org_6687q89lgh27q3z41zesm2fsq6/cld_j25ipm5kli358v41pn9c96gjg3/BurberryData:john_:kpbdm/images/2BB5C565-03E1-41FE-BB61-B1A3D8C77AC0.png',\n",
       "  'anyscale-customer-dataplane-data-production-us-east-2/artifact_storage/org_6687q89lgh27q3z41zesm2fsq6/cld_j25ipm5kli358v41pn9c96gjg3/BurberryData:john_:kpbdm/images/2C618CD0-85DE-42FE-862E-82EBD9FC7188.png',\n",
       "  'anyscale-customer-dataplane-data-production-us-east-2/artifact_storage/org_6687q89lgh27q3z41zesm2fsq6/cld_j25ipm5kli358v41pn9c96gjg3/BurberryData:john_:kpbdm/images/2BB36EEE-1AE1-4EBD-A10B-847D923EDB20.png',\n",
       "  'anyscale-customer-dataplane-data-production-us-east-2/artifact_storage/org_6687q89lgh27q3z41zesm2fsq6/cld_j25ipm5kli358v41pn9c96gjg3/BurberryData:john_:kpbdm/images/2C1769EB-6EA6-451D-9798-3885011C3235.png',\n",
       "  'anyscale-customer-dataplane-data-production-us-east-2/artifact_storage/org_6687q89lgh27q3z41zesm2fsq6/cld_j25ipm5kli358v41pn9c96gjg3/BurberryData:john_:kpbdm/images/2BB9E45A-5A4C-40AB-A0B5-C80C9F017E31.png',\n",
       "  'anyscale-customer-dataplane-data-production-us-east-2/artifact_storage/org_6687q89lgh27q3z41zesm2fsq6/cld_j25ipm5kli358v41pn9c96gjg3/BurberryData:john_:kpbdm/images/2BD68A5F-39C0-404B-80AE-77BC3573823F.png',\n",
       "  'anyscale-customer-dataplane-data-production-us-east-2/artifact_storage/org_6687q89lgh27q3z41zesm2fsq6/cld_j25ipm5kli358v41pn9c96gjg3/BurberryData:john_:kpbdm/images/2C92AF7D-4397-4090-8EB4-08AF0F7980FE.png',\n",
       "  'anyscale-customer-dataplane-data-production-us-east-2/artifact_storage/org_6687q89lgh27q3z41zesm2fsq6/cld_j25ipm5kli358v41pn9c96gjg3/BurberryData:john_:kpbdm/images/2B88ED98-8B56-44AB-BB27-5A3B78C4DC4F.png',\n",
       "  'anyscale-customer-dataplane-data-production-us-east-2/artifact_storage/org_6687q89lgh27q3z41zesm2fsq6/cld_j25ipm5kli358v41pn9c96gjg3/BurberryData:john_:kpbdm/images/2B8BF67D-388B-4B22-B3B8-D02DE4BACF1A.png']}"
      ]
     },
     "execution_count": 13,
     "metadata": {},
     "output_type": "execute_result"
    }
   ],
   "source": [
    "PaliGemmaPredictor()(batch)"
   ]
  },
  {
   "cell_type": "code",
   "execution_count": 17,
   "metadata": {},
   "outputs": [],
   "source": [
    "ds = (\n",
    "    img_data\n",
    "    .map_batches(\n",
    "        PaliGemmaPredictor,\n",
    "        concurrency=3,\n",
    "        batch_size=10,\n",
    "        fn_constructor_kwargs={\"image_col\": \"image\"}\n",
    "    )\n",
    ")"
   ]
  },
  {
   "cell_type": "code",
   "execution_count": 18,
   "metadata": {},
   "outputs": [
    {
     "name": "stderr",
     "output_type": "stream",
     "text": [
      "2024-09-22 06:18:42,253\tINFO streaming_executor.py:108 -- Starting execution of Dataset. Full logs are in /tmp/ray/session_2024-09-21_20-17-17_494561_3381/logs/ray-data\n",
      "2024-09-22 06:18:42,253\tINFO streaming_executor.py:109 -- Execution plan of Dataset: InputDataBuffer[Input] -> TaskPoolMapOperator[ExpandPaths] -> TaskPoolMapOperator[ReadFiles] -> LimitOperator[limit=100] -> ActorPoolMapOperator[MapBatches(PaliGemmaPredictor)] -> TaskPoolMapOperator[Write]\n"
     ]
    },
    {
     "data": {
      "application/vnd.jupyter.widget-view+json": {
       "model_id": "7fd7be474ddd4f8d9455e557382eeca8",
       "version_major": 2,
       "version_minor": 0
      },
      "text/plain": [
       "- ExpandPaths 1: 0 bundle [00:00, ? bundle/s]"
      ]
     },
     "metadata": {},
     "output_type": "display_data"
    },
    {
     "data": {
      "application/vnd.jupyter.widget-view+json": {
       "model_id": "69215becbcb44ed786916942dbd02b46",
       "version_major": 2,
       "version_minor": 0
      },
      "text/plain": [
       "- ReadFiles 2: 0 bundle [00:00, ? bundle/s]"
      ]
     },
     "metadata": {},
     "output_type": "display_data"
    },
    {
     "data": {
      "application/vnd.jupyter.widget-view+json": {
       "model_id": "89a7ad79362e48d0893471c17a673318",
       "version_major": 2,
       "version_minor": 0
      },
      "text/plain": [
       "- limit=100 3: 0 bundle [00:00, ? bundle/s]"
      ]
     },
     "metadata": {},
     "output_type": "display_data"
    },
    {
     "data": {
      "application/vnd.jupyter.widget-view+json": {
       "model_id": "0837db31586d43948a9fcab659a7ef6e",
       "version_major": 2,
       "version_minor": 0
      },
      "text/plain": [
       "- MapBatches(PaliGemmaPredictor) 4: 0 bundle [00:00, ? bundle/s]"
      ]
     },
     "metadata": {},
     "output_type": "display_data"
    },
    {
     "data": {
      "application/vnd.jupyter.widget-view+json": {
       "model_id": "533522dbb92c472d80fd4e87ac9128bc",
       "version_major": 2,
       "version_minor": 0
      },
      "text/plain": [
       "- Write 5: 0 bundle [00:00, ? bundle/s]"
      ]
     },
     "metadata": {},
     "output_type": "display_data"
    },
    {
     "data": {
      "application/vnd.jupyter.widget-view+json": {
       "model_id": "bab462ca914643b4bec3ef000a8c6731",
       "version_major": 2,
       "version_minor": 0
      },
      "text/plain": [
       "Running 0: 0 bundle [00:00, ? bundle/s]"
      ]
     },
     "metadata": {},
     "output_type": "display_data"
    }
   ],
   "source": [
    "ds.write_parquet(\n",
    "        path=CAPTION_PATH,\n",
    "        try_create_dir=False\n",
    "    )"
   ]
  },
  {
   "cell_type": "code",
   "execution_count": null,
   "metadata": {},
   "outputs": [],
   "source": []
  }
 ],
 "metadata": {
  "kernelspec": {
   "display_name": "base",
   "language": "python",
   "name": "python3"
  },
  "language_info": {
   "codemirror_mode": {
    "name": "ipython",
    "version": 3
   },
   "file_extension": ".py",
   "mimetype": "text/x-python",
   "name": "python",
   "nbconvert_exporter": "python",
   "pygments_lexer": "ipython3",
   "version": "3.9.19"
  }
 },
 "nbformat": 4,
 "nbformat_minor": 2
}
