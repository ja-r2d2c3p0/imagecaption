{
 "cells": [
  {
   "cell_type": "markdown",
   "metadata": {},
   "source": [
    "## Loading data from HF Data to S3"
   ]
  },
  {
   "cell_type": "markdown",
   "metadata": {},
   "source": [
    "### Initialize the settings\n",
    "1. Dataset name from huggingface\n",
    "2. Output S3 path"
   ]
  },
  {
   "cell_type": "code",
   "execution_count": 8,
   "metadata": {},
   "outputs": [],
   "source": [
    "import sys \n",
    "sys.path.insert(0, '/home/ray/default')\n",
    "\n",
    "import os\n",
    "from util.utils import (\n",
    "    generate_output_path\n",
    ")"
   ]
  },
  {
   "cell_type": "code",
   "execution_count": 65,
   "metadata": {},
   "outputs": [],
   "source": [
    "## https://huggingface.co/datasets/DBQ/Burberry.Product.prices.United.States?row=0\n",
    "HF_DATA = \"DBQ/Burberry.Product.prices.United.States\"\n",
    "\n",
    "# Output path to write output result. You can also change this to any cloud storage path,\n",
    "# e.g. a specific S3 bucket.\n",
    "output_path = generate_output_path(\n",
    "    # `ANYSCALE_ARTIFACT_STORAGE` is the URI to the pre-generated folder for storing\n",
    "    # your artifacts while keeping them separate them from Anyscale-generated ones.\n",
    "    # See: https://docs.anyscale.com/workspaces/storage#object-storage-s3-or-gcs-buckets\n",
    "    os.environ.get(\"ANYSCALE_ARTIFACT_STORAGE\"),\n",
    "    \"BurberryData\",\n",
    ")\n",
    "IMG_PATH = output_path + \"/images\"\n",
    "DATA_PATH = output_path + \"/data\"\n",
    "\n",
    "IMG_PATH_TEST = \"/home/ray/default/data/images\"\n"
   ]
  },
  {
   "cell_type": "markdown",
   "metadata": {},
   "source": [
    "### Read and Process Data"
   ]
  },
  {
   "cell_type": "code",
   "execution_count": 73,
   "metadata": {},
   "outputs": [],
   "source": [
    "from datasets import load_dataset\n",
    "dataset = load_dataset(HF_DATA)"
   ]
  },
  {
   "cell_type": "code",
   "execution_count": 74,
   "metadata": {},
   "outputs": [],
   "source": [
    "\n",
    "import ray.data\n",
    "from datasets import load_dataset\n",
    "ray_ds = ray.data.from_huggingface(dataset[\"train\"])"
   ]
  },
  {
   "cell_type": "code",
   "execution_count": 75,
   "metadata": {},
   "outputs": [
    {
     "data": {
      "application/vnd.jupyter.widget-view+json": {
       "model_id": "2400c015ba5f45f19f1bcc40003043ac",
       "version_major": 2,
       "version_minor": 0
      },
      "text/plain": [
       "MaterializedDataset(\n",
       "   num_blocks=1,\n",
       "   num_rows=3038,\n",
       "   schema={\n",
       "      website_name: string,\n",
       "      competence_date: string,\n",
       "      country_code: string,\n",
       "      currency_code: string,\n",
       "      brand: string,\n",
       "      category1_code: string,\n",
       "      category2_code: string,\n",
       "      category3_code: string,\n",
       "      product_code: int64,\n",
       "      title: string,\n",
       "      itemurl: string,\n",
       "      imageurl: string,\n",
       "      full_price: double,\n",
       "      price: double,\n",
       "      full_price_eur: double,\n",
       "      price_eur: double,\n",
       "      flg_discount: int64\n",
       "   }\n",
       ")"
      ]
     },
     "execution_count": 75,
     "metadata": {},
     "output_type": "execute_result"
    }
   ],
   "source": [
    "ray_ds"
   ]
  },
  {
   "cell_type": "code",
   "execution_count": 78,
   "metadata": {},
   "outputs": [],
   "source": [
    "## https://docs.ray.io/en/latest/data/transforming-data.html\n",
    "import os\n",
    "from typing import Any, Dict\n",
    "import ray\n",
    "\n",
    "def validate_url(row: Dict[str, any]) -> bool:\n",
    "    return row[\"imageurl\"].startswith(\"https://\")\n",
    "\n",
    "def parse_image(row: Dict[str, Any]) -> Dict[str, Any]:\n",
    "    from PIL import Image\n",
    "    import numpy as np\n",
    "    import requests\n",
    "    row[\"image\"] = np.array(Image.open(requests.get(row[\"imageurl\"], stream=True).raw))\n",
    "    return row\n",
    "\n",
    "ray_ds_images = (\n",
    "    ray_ds\n",
    "    .filter(validate_url)\n",
    "    .map(parse_image)\n",
    ")"
   ]
  },
  {
   "cell_type": "code",
   "execution_count": 79,
   "metadata": {},
   "outputs": [],
   "source": [
    "from ray.data.datasource import FilenameProvider\n",
    "\n",
    "class ImageFilenameProvider(FilenameProvider):\n",
    "    def __init__(self, file_format: str):\n",
    "        self.file_format = file_format\n",
    "\n",
    "    def get_filename_for_row(self, row, task_index, block_index, row_index):\n",
    "        return row['imageurl'].split(\"/\")[-1] + '.png'"
   ]
  },
  {
   "cell_type": "code",
   "execution_count": 80,
   "metadata": {},
   "outputs": [
    {
     "name": "stderr",
     "output_type": "stream",
     "text": [
      "2024-09-21 22:05:51,023\tINFO streaming_executor.py:108 -- Starting execution of Dataset. Full logs are in /tmp/ray/session_2024-09-21_20-17-17_494561_3381/logs/ray-data\n",
      "2024-09-21 22:05:51,024\tINFO streaming_executor.py:109 -- Execution plan of Dataset: InputDataBuffer[Input] -> TaskPoolMapOperator[Filter(validate_url)->Map(parse_image)->Write]\n"
     ]
    },
    {
     "data": {
      "application/vnd.jupyter.widget-view+json": {
       "model_id": "49c6092d1d704651b2c8eff25e115286",
       "version_major": 2,
       "version_minor": 0
      },
      "text/plain": [
       "- Filter(validate_url)->Map(parse_image)->Write 1: 0 bundle [00:00, ? bundle/s]"
      ]
     },
     "metadata": {},
     "output_type": "display_data"
    },
    {
     "data": {
      "application/vnd.jupyter.widget-view+json": {
       "model_id": "9ba37a8c4a584b188c9588dcdc34983e",
       "version_major": 2,
       "version_minor": 0
      },
      "text/plain": [
       "Running 0: 0 bundle [00:00, ? bundle/s]"
      ]
     },
     "metadata": {},
     "output_type": "display_data"
    }
   ],
   "source": [
    "ray_ds_images.write_images(\n",
    "    path = IMG_PATH, \n",
    "    column=\"image\",\n",
    "    filename_provider=ImageFilenameProvider(\"png\"),\n",
    "    try_create_dir=False\n",
    ")"
   ]
  },
  {
   "cell_type": "code",
   "execution_count": 83,
   "metadata": {},
   "outputs": [
    {
     "name": "stderr",
     "output_type": "stream",
     "text": [
      "2024-09-21 22:17:47,829\tINFO streaming_executor.py:108 -- Starting execution of Dataset. Full logs are in /tmp/ray/session_2024-09-21_20-17-17_494561_3381/logs/ray-data\n",
      "2024-09-21 22:17:47,829\tINFO streaming_executor.py:109 -- Execution plan of Dataset: InputDataBuffer[Input] -> TaskPoolMapOperator[Filter(validate_url)->Write]\n"
     ]
    },
    {
     "data": {
      "application/vnd.jupyter.widget-view+json": {
       "model_id": "942fe0f919f84bad9a227533ef4d17f5",
       "version_major": 2,
       "version_minor": 0
      },
      "text/plain": [
       "- Filter(validate_url)->Write 1: 0 bundle [00:00, ? bundle/s]"
      ]
     },
     "metadata": {},
     "output_type": "display_data"
    },
    {
     "data": {
      "application/vnd.jupyter.widget-view+json": {
       "model_id": "5c483659564042538927cde766e126b8",
       "version_major": 2,
       "version_minor": 0
      },
      "text/plain": [
       "Running 0: 0 bundle [00:00, ? bundle/s]"
      ]
     },
     "metadata": {},
     "output_type": "display_data"
    }
   ],
   "source": [
    "ray_ds\\\n",
    "    .filter(validate_url)\\\n",
    "    .write_parquet(\n",
    "        path=DATA_PATH,\n",
    "        try_create_dir=False\n",
    "    )"
   ]
  },
  {
   "cell_type": "code",
   "execution_count": 94,
   "metadata": {},
   "outputs": [],
   "source": [
    "img_test = ray.data.read_images(IMG_PATH).limit(10)"
   ]
  },
  {
   "cell_type": "code",
   "execution_count": null,
   "metadata": {},
   "outputs": [],
   "source": []
  }
 ],
 "metadata": {
  "kernelspec": {
   "display_name": "base",
   "language": "python",
   "name": "python3"
  },
  "language_info": {
   "codemirror_mode": {
    "name": "ipython",
    "version": 3
   },
   "file_extension": ".py",
   "mimetype": "text/x-python",
   "name": "python",
   "nbconvert_exporter": "python",
   "pygments_lexer": "ipython3",
   "version": "3.9.19"
  }
 },
 "nbformat": 4,
 "nbformat_minor": 2
}
